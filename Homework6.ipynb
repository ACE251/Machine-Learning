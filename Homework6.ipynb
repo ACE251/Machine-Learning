{
 "cells": [
  {
   "cell_type": "markdown",
   "id": "e5144e1e",
   "metadata": {},
   "source": [
    "Ex 12.6 on page 512. You can get lots of help in chapter slides 12_03.01.ipynb and 12_03.02.ipynb. "
   ]
  },
  {
   "cell_type": "markdown",
   "id": "a8cf7ef5",
   "metadata": {},
   "source": [
    "# 12.6 (WORD FREQUENCY BAR CHART AND WORD CLOUD FROM SHAKESPEARE’S HAMLET) \n",
    "Using the techniques you learned in this chapter, create a top-20 word frequency bar chart and a word cloud, based on Shakespeare’s Hamlet. Use the mask_oval.png file provided in the ch12 examples folder as the mask."
   ]
  },
  {
   "cell_type": "markdown",
   "id": "9b7a4734",
   "metadata": {},
   "source": [
    "## Reguired NLTK Libaries"
   ]
  },
  {
   "cell_type": "code",
   "execution_count": 23,
   "id": "d5fce0bd",
   "metadata": {},
   "outputs": [
    {
     "name": "stderr",
     "output_type": "stream",
     "text": [
      "[nltk_data] Downloading package stopwords to\n",
      "[nltk_data]     C:\\Users\\12516\\AppData\\Roaming\\nltk_data...\n",
      "[nltk_data]   Package stopwords is already up-to-date!\n",
      "[nltk_data] Downloading package wordnet to\n",
      "[nltk_data]     C:\\Users\\12516\\AppData\\Roaming\\nltk_data...\n",
      "[nltk_data]   Package wordnet is already up-to-date!\n",
      "[nltk_data] Downloading package punkt to\n",
      "[nltk_data]     C:\\Users\\12516\\AppData\\Roaming\\nltk_data...\n",
      "[nltk_data]   Package punkt is already up-to-date!\n"
     ]
    },
    {
     "data": {
      "text/plain": [
       "True"
      ]
     },
     "execution_count": 23,
     "metadata": {},
     "output_type": "execute_result"
    }
   ],
   "source": [
    "import nltk\n",
    "from nltk.corpus import stopwords\n",
    "# Download the list of stopwords\n",
    "# These are common words like \"the\", \"is\", \"in\", etc., that are often removed in text processing\n",
    "nltk.download('stopwords')\n",
    "\n",
    "# Ex:\n",
    "# stopwords = stopwords.words('english')\n",
    "# print(stopwords[:10])  # Print the first 10 stopwords\n",
    "# output: ['i', 'me', 'my', 'myself', 'we', 'our', 'ours', 'ourselves', 'you', \"you're\"]\n",
    "\n",
    "# Download the WordNet corpus\n",
    "# This is a large lexical database of English words\n",
    "# related to synonyms, antonyms, and other semantic relations\n",
    "from nltk.corpus import wordnet\n",
    "from nltk.stem import WordNetLemmatizer\n",
    "nltk.download('wordnet')\n",
    "# Ex:\n",
    "# lemmatizer = WordNetLemmatizer()\n",
    "# print(lemmatizer.lemmatize(\"running\"))  # Output: run\n",
    "# print(lemmatizer.lemmatize(\"better\", pos='a'))  # Output: good\n",
    "\n",
    "# Download the punkt tokenizer models\n",
    "# splits text into a list of sentences or words\n",
    "from nltk.tokenize import word_tokenize, sent_tokenize\n",
    "nltk.download('punkt')\n",
    "\n",
    "# Ex:\n",
    "# text = \"Hello there! How are you doing today? Let's learn some NLP.\"\n",
    "# print(sent_tokenize(text))  # Output: ['Hello there!', 'How are you doing today?', \"Let's learn some NLP.\"]\n",
    "# print(word_tokenize(text))  # Output: ['Hello', 'there', '!', ' How', 'are', 'you', 'doing', 'today', '?', 'Let', \"'s\", 'learn', 'some', 'NLP', '.']"
   ]
  },
  {
   "cell_type": "markdown",
   "id": "4c3bcca9",
   "metadata": {},
   "source": [
    "## Loading the Data\n"
   ]
  },
  {
   "cell_type": "code",
   "execution_count": 24,
   "id": "cb186eb9",
   "metadata": {},
   "outputs": [],
   "source": [
    "# imports the imageio library, which is used to read and write images in many formats.\n",
    "import requests\n",
    "\n",
    "target_url ='http://www.gutenberg.org/files/2265/2265.txt'\n",
    "\n",
    "response = requests.get(target_url)\n",
    "\n",
    "Hamlet = response.text\n"
   ]
  },
  {
   "cell_type": "markdown",
   "id": "28aafbf4",
   "metadata": {},
   "source": [
    "## Create TextBlob Object"
   ]
  },
  {
   "cell_type": "code",
   "execution_count": 29,
   "id": "d9c0528d",
   "metadata": {},
   "outputs": [],
   "source": [
    "from textblob import TextBlob\n",
    "# Imports the TextBlob library, which provides a simple interface for text processing tasks \n",
    "# such as tokenization, part-of-speech tagging, sentiment analysis, spelling correction, and more.\n",
    "blob = TextBlob(Hamlet)\n",
    "\n",
    "#Creates a TextBlob object called blob using the variable data (the text of the book you downloaded).\n",
    "\n",
    "# blob now provides easy access to many NLP features."
   ]
  },
  {
   "cell_type": "markdown",
   "id": "337ad3a3",
   "metadata": {},
   "source": [
    "## Getting the Word Frequencies and Eliminating the Stopwords"
   ]
  },
  {
   "cell_type": "code",
   "execution_count": null,
   "id": "a120641b",
   "metadata": {},
   "outputs": [
    {
     "name": "stdout",
     "output_type": "stream",
     "text": [
      "[('project', 38), ('gutenberg', 23), ('etext', 33), ('shakespeare', 11), ('first', 27), ('folio', 7), ('tragedie', 9), ('hamlet', 106), ('ebook', 2), ('one', 57)]\n"
     ]
    }
   ],
   "source": [
    "stop_words = set(stopwords.words('english'))\n",
    "\n",
    "words = blob.word_counts.items()\n",
    "words = dict(words) \n",
    "\n",
    "filtered_words = {word: count for word, count in words.items() if word not in stop_words}\n",
    "print(list(filtered_words.items())[:10])"
   ]
  },
  {
   "cell_type": "markdown",
   "id": "a24123c5",
   "metadata": {},
   "source": [
    "## Sorting the words by Frequency"
   ]
  },
  {
   "cell_type": "code",
   "execution_count": 32,
   "id": "d8bba808",
   "metadata": {},
   "outputs": [],
   "source": [
    "from operator import itemgetter\n",
    "\n",
    "sorted_words = sorted(filtered_words.items(), key=itemgetter(1), reverse=True)"
   ]
  },
  {
   "cell_type": "markdown",
   "id": "6c849638",
   "metadata": {},
   "source": [
    "## Getting the Top20 words"
   ]
  },
  {
   "cell_type": "code",
   "execution_count": 33,
   "id": "e32db6bf",
   "metadata": {},
   "outputs": [
    {
     "name": "stdout",
     "output_type": "stream",
     "text": [
      "[('ham', 337), ('lord', 211), ('haue', 175), ('king', 173), ('shall', 107), ('hamlet', 106), ('come', 106), ('thou', 105), ('let', 104), ('good', 99), ('hor', 95), ('thy', 90), ('may', 85), ('enter', 85), ('oh', 81), ('like', 79), ('well', 71), ('know', 70), ('would', 69), ('selfe', 68)]\n"
     ]
    }
   ],
   "source": [
    "Top20 = sorted_words[:20]\n",
    "print(Top20)"
   ]
  },
  {
   "cell_type": "markdown",
   "id": "919554e6",
   "metadata": {},
   "source": [
    "## Convert the Top20 words into a dataframe"
   ]
  },
  {
   "cell_type": "code",
   "execution_count": 34,
   "id": "453d7bce",
   "metadata": {},
   "outputs": [
    {
     "name": "stdout",
     "output_type": "stream",
     "text": [
      "      Word  Frequency\n",
      "0      ham        337\n",
      "1     lord        211\n",
      "2     haue        175\n",
      "3     king        173\n",
      "4    shall        107\n",
      "5   hamlet        106\n",
      "6     come        106\n",
      "7     thou        105\n",
      "8      let        104\n",
      "9     good         99\n",
      "10     hor         95\n",
      "11     thy         90\n",
      "12     may         85\n",
      "13   enter         85\n",
      "14      oh         81\n",
      "15    like         79\n",
      "16    well         71\n",
      "17    know         70\n",
      "18   would         69\n",
      "19   selfe         68\n"
     ]
    }
   ],
   "source": [
    "import pandas as pd\n",
    "\n",
    "df = pd.DataFrame(Top20, columns=['Word', 'Frequency'])\n",
    "print(df)"
   ]
  },
  {
   "cell_type": "markdown",
   "id": "2bf7b7d5",
   "metadata": {},
   "source": [
    "## Visualize the Data"
   ]
  },
  {
   "cell_type": "code",
   "execution_count": 35,
   "id": "7bd5fb94",
   "metadata": {},
   "outputs": [
    {
     "data": {
      "image/png": "[encoded data removed]",
      "text/plain": [
       "<Figure size 640x480 with 1 Axes>"
      ]
     },
     "metadata": {},
     "output_type": "display_data"
    }
   ],
   "source": [
    "from matplotlib import pyplot as plt\n",
    "%matplotlib inline\n",
    "axes = df.plot.bar(x='Word', y='Frequency', legend=False, title=\"Top 20 Words in Hamlet\")\n",
    "\n",
    "plt.gcf().tight_layout()"
   ]
  },
  {
   "cell_type": "code",
   "execution_count": null,
   "id": "9385864c",
   "metadata": {},
   "outputs": [
    {
     "name": "stderr",
     "output_type": "stream",
     "text": [
      "C:\\Users\\12516\\AppData\\Local\\Temp\\ipykernel_25700\\1654715092.py:6: DeprecationWarning: Starting with ImageIO v3 the behavior of this function will switch to that of iio.v3.imread. To keep the current behavior (and make this warning disappear) use `import imageio.v2 as imageio` or call `imageio.v2.imread` directly.\n",
      "  mask_image = imageio.imread(image_file)\n"
     ]
    }
   ],
   "source": [
    "from wordcloud import WordCloud# Load mask image\n",
    "import imageio\n",
    "\n",
    "image_file=\"https://media.cheggcdn.com/media/216/21621ee5-e80f-47f3-9145-513f2229b390/phploeBuh.png\"\n",
    "\n",
    "mask_image = imageio.imread(image_file)\n",
    "\n",
    "wordcloud = WordCloud( background_color='white', mask=mask_image)\n",
    "wordcloud = wordcloud.generate(Hamlet)\n",
    "plt.imshow(wordcloud, interpolation='bilinear')\n",
    "\n",
    "wordcloud = wordcloud.to_file('Hamlet.png')"
   ]
  }
 ],
 "metadata": {
  "kernelspec": {
   "display_name": "Python 3",
   "language": "python",
   "name": "python3"
  },
  "language_info": {
   "codemirror_mode": {
    "name": "ipython",
    "version": 3
   },
   "file_extension": ".py",
   "mimetype": "text/x-python",
   "name": "python",
   "nbconvert_exporter": "python",
   "pygments_lexer": "ipython3",
   "version": "3.12.6"
  }
 },
 "nbformat": 4,
 "nbformat_minor": 5
}
